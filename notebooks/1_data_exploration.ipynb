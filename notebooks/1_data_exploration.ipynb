{
 "cells": [
  {
   "metadata": {},
   "cell_type": "markdown",
   "source": "# PHÂN TÍCH KHÁM PHÁ DỮ LIỆU",
   "id": "3f54928b9c61c918"
  },
  {
   "metadata": {},
   "cell_type": "markdown",
   "source": "### 1. Nhập các thư viện cần thiết",
   "id": "5385c577b08e3677"
  },
  {
   "cell_type": "code",
   "id": "initial_id",
   "metadata": {
    "collapsed": true
   },
   "source": [
    "import os\n",
    "\n",
    "import pandas as pd\n",
    "import numpy as np\n",
    "import matplotlib.pyplot as plt\n",
    "import seaborn as sns\n",
    "from scipy.stats import zscore\n",
    "\n",
    "# Đảm bảo rằng các hình ảnh hiển thị rõ ràng\n",
    "%matplotlib inline\n",
    "sns.set(style=\"whitegrid\")"
   ],
   "outputs": [],
   "execution_count": null
  },
  {
   "metadata": {},
   "cell_type": "markdown",
   "source": "",
   "id": "267ef7ff7e13c459"
  },
  {
   "metadata": {},
   "cell_type": "markdown",
   "source": "### 2. Đọc dữ liệu",
   "id": "aea47ba571f20ab"
  },
  {
   "metadata": {},
   "cell_type": "code",
   "source": [
    "# Đường dẫn tới dữ liệu thô\n",
    "data_path = \"../data/raw/creditcard.csv\"\n",
    "figure_dir = \"../reports/figures\"\n",
    "df = pd.read_csv(data_path)\n"
   ],
   "id": "520c54acdabe66ac",
   "outputs": [],
   "execution_count": null
  },
  {
   "metadata": {},
   "cell_type": "markdown",
   "source": "### 3. Tổng quan dữ liệu",
   "id": "74c2281bd530ef49"
  },
  {
   "metadata": {},
   "cell_type": "code",
   "source": [
    "print(\"Kích thước của dataset:\", df.shape)\n",
    "print(\"\\nThông tin chi tiết về dataset:\")\n",
    "df.info()\n",
    "\n",
    "\n",
    "print(\"\\nXem qua 5 dòng đầu tiên của dataset:\")\n",
    "df.head()"
   ],
   "id": "a8143f0ddee15ee4",
   "outputs": [],
   "execution_count": null
  },
  {
   "metadata": {},
   "cell_type": "markdown",
   "source": [
    "### Highlights\n",
    "\n",
    "1. **Kích thước dữ liệu**:  \n",
    "   - Tập dữ liệu chứa **284,807 giao dịch** với **31 cột đặc trưng**.  \n",
    "\n",
    "2. **Kiểu dữ liệu**:  \n",
    "   - Tất cả các cột là kiểu `float64`, ngoại trừ **Class** (kiểu số nguyên).  \n",
    "\n",
    "3. **Đặc trưng ẩn danh**:  \n",
    "   - 28 cột (`V1`, `V2`, ..., `V28`) là các đặc trưng đã được giảm chiều bằng PCA.  \n",
    "   - Các giá trị trong những cột này không mang ý nghĩa logic trực tiếp.\n",
    "\n",
    "4. **Các cột quan trọng**:  \n",
    "   - **TIME**, **AMOUNT**, và **CLASS** là những cột có thể phân tích sâu.\n",
    "\n",
    "---\n"
   ],
   "id": "5d4f1ec2a9c78e20"
  },
  {
   "metadata": {},
   "cell_type": "markdown",
   "source": "### 4. Thống kê mô tả",
   "id": "39107d7b1540b3c3"
  },
  {
   "metadata": {},
   "cell_type": "code",
   "source": [
    "print(\"\\nThống kê mô tả các đặc trưng liên tục:\")\n",
    "print(df[['Time','Amount']].describe())"
   ],
   "id": "72a8c9d62823ea84",
   "outputs": [],
   "execution_count": null
  },
  {
   "metadata": {},
   "cell_type": "markdown",
   "source": "",
   "id": "719440e7102b5ad5"
  },
  {
   "metadata": {},
   "cell_type": "markdown",
   "source": [
    "#### Highlights\n",
    "Thời gian (Time): Thời gian giao dịch dao động từ 0 đến ~48 giờ, với thời điểm trung bình ~26 giờ.  \n",
    "Số tiền (Amount): 75% các giao dịch dưới 77.17 đơn vị tiền tệ, nhưng có giao dịch cao nhất lên đến 25,691.16.\n",
    "Chỉ ra phần lớn giao dịch có giá trị nhỏ, trong khi các giao dịch có giá trị lớn có thể cần chú ý đặc biệt vì khả năng liên quan đến gian lận cao hơn."
   ],
   "id": "8627e362a6cab642"
  },
  {
   "metadata": {},
   "cell_type": "code",
   "source": [
    "# 4.1 Kiểm tra giá trị thiếu\n",
    "print(\"\\nKiểm tra các giá trị thiếu trong tập dữ liệu:\")\n",
    "missing_values = df.isnull().sum()\n",
    "print(missing_values[missing_values > 0])"
   ],
   "id": "a9b22506ec624ec0",
   "outputs": [],
   "execution_count": null
  },
  {
   "metadata": {},
   "cell_type": "markdown",
   "source": "Dữ liệu không có giá trị thiếu, đảm bảo tính toàn vẹn của phân tích.",
   "id": "30c8b5f3a1c788b1"
  },
  {
   "metadata": {},
   "cell_type": "code",
   "source": [
    "# 4.2 Tóm tắt thông tin chính\n",
    "print(\"\\nSố lượng giá trị duy nhất trong từng cột:\")\n",
    "print(df.nunique())"
   ],
   "id": "472c530064a1d76d",
   "outputs": [],
   "execution_count": null
  },
  {
   "metadata": {},
   "cell_type": "markdown",
   "source": "### 5. Phân phối dữ liệu",
   "id": "721472fc03ffb19a"
  },
  {
   "metadata": {},
   "cell_type": "markdown",
   "source": "#### 5.1. Phân tích nhãn (class)",
   "id": "c8c62f873c1b4673"
  },
  {
   "metadata": {},
   "cell_type": "code",
   "source": [
    "# Tần suất của các nhãn (Class)\n",
    "class_counts = df['Class'].value_counts()\n",
    "print(\"\\nPhân phối nhãn (Class):\")\n",
    "print(class_counts)\n",
    "\n",
    "# Vẽ biểu đồ hình tròn thể hiện tỷ lệ các nhãn\n",
    "labels = ['Không gian lận (Class 0)', 'Gian lận (Class 1)']\n",
    "sizes = [class_counts[0], class_counts[1]]\n",
    "colors = ['#66b3ff', '#ff9999']\n",
    "\n",
    "plt.figure(figsize=(8, 8))\n",
    "plt.pie(sizes, labels=labels, colors=colors, autopct='%1.1f%%', startangle=90, explode=(0, 0.1))\n",
    "plt.title(\"Tỷ lệ giao dịch gian lận và không gian lận\", fontsize=16)\n",
    "plt.axis('equal')  # Đảm bảo hình tròn hoàn chỉnh\n",
    "plt.savefig(os.path.join(figure_dir, \"1_pie_class_ling.png\"))\n",
    "plt.show()"
   ],
   "id": "6b0c81052f825a05",
   "outputs": [],
   "execution_count": null
  },
  {
   "metadata": {},
   "cell_type": "markdown",
   "source": "",
   "id": "68cbcd36613493e4"
  },
  {
   "metadata": {},
   "cell_type": "markdown",
   "source": [
    "#### Highlights \n",
    "Bộ dữ liệu này có 492 vụ gian lận trong số 284315 giao dịch.  \n",
    "Tập dữ liệu có tính mất cân bằng cao, tỷ lệ gian lận chiếm xấp xỉ 0,2% tổng số giao dịch. Hầu hết các giao dịch đều không gian lận."
   ],
   "id": "c5186aa12fabafed"
  },
  {
   "metadata": {},
   "cell_type": "markdown",
   "source": "#### 5.2. Phân phối thời gian giao dịch (Time)",
   "id": "103520febfde569f"
  },
  {
   "metadata": {},
   "cell_type": "code",
   "source": [
    "plt.figure(figsize=(10, 6))\n",
    "sns.distplot(df['Time'], bins=50)\n",
    "plt.title(\"Phân phối của thời gian giao dịch (Time)\", fontsize=16)\n",
    "plt.xlabel(\"Thời gian (giây)\", fontsize=12)\n",
    "plt.ylabel(\"Số lượng giao dịch\", fontsize=12)\n",
    "plt.savefig(os.path.join(figure_dir, \"2_distribution_time.png\"))\n",
    "plt.show()"
   ],
   "id": "615ddafc3ec3c00a",
   "outputs": [],
   "execution_count": null
  },
  {
   "metadata": {},
   "cell_type": "markdown",
   "source": [
    "#### Highlights\n",
    "\n",
    "Biểu đồ cho thấy có hai đỉnh trong biểu đồ và có một số đỉnh cục bộ.  \n",
    "Chúng ta có thể coi đây là thời gian trong ngày, cao điểm là thời điểm ban ngày và độ sâu là thời gian ban đêm."
   ],
   "id": "c55932cab2b044da"
  },
  {
   "metadata": {},
   "cell_type": "markdown",
   "source": "### 5.3. Phân phối số tiền giao dịch (Amount)",
   "id": "e3358cd5d3f345fc"
  },
  {
   "metadata": {},
   "cell_type": "code",
   "source": [
    "plt.figure(figsize=(10, 6))\n",
    "sns.histplot(df['Amount'], bins=50, kde=True, color=\"green\")\n",
    "plt.title(\"Phân phối của số tiền giao dịch (Amount)\", fontsize=16)\n",
    "plt.xlabel(\"Amount\", fontsize=12)\n",
    "plt.ylabel(\"Tần suất\", fontsize=12)\n",
    "plt.savefig(os.path.join(figure_dir, \"3_distribution_amount.png\"))\n",
    "plt.show()"
   ],
   "id": "56e3d68db6053a6",
   "outputs": [],
   "execution_count": null
  },
  {
   "metadata": {},
   "cell_type": "markdown",
   "source": "",
   "id": "9a36de2ff28d492e"
  },
  {
   "metadata": {},
   "cell_type": "markdown",
   "source": [
    "#### Highlights  \n",
    "Hầu hết số tiền giao dịch nằm trong khoảng từ 0 đến khoảng 3000 và có một số ngoại lệ cho các giao dịch số lượng thực sự lớn."
   ],
   "id": "a5bb903708243250"
  },
  {
   "metadata": {},
   "cell_type": "markdown",
   "source": [
    "\n",
    "### 6. Phân tích ngoại lai (Outliers)"
   ],
   "id": "379c58c7ae703452"
  },
  {
   "metadata": {},
   "cell_type": "code",
   "source": [
    "# Vẽ boxplot để trực quan hóa ngoại lai trên Amount\n",
    "plt.figure(figsize=(8, 6))\n",
    "sns.boxplot(x=df['Amount'], color=\"orange\")\n",
    "plt.title(\"Boxplot của số tiền giao dịch (Amount)\", fontsize=16)\n",
    "plt.xlabel(\"Amount\", fontsize=12)\n",
    "plt.savefig(os.path.join(figure_dir, \"4_boxplot_amount.png\"))\n",
    "plt.show()"
   ],
   "id": "80d5056199cf977c",
   "outputs": [],
   "execution_count": null
  },
  {
   "metadata": {},
   "cell_type": "markdown",
   "source": [
    "#### Highlights\n",
    "Có một số ngoại lệ cho các giao dịch số lượng thực sự lớn và việc loại bỏ các ngoại lệ đó trong phân tích có thể gây ảnh hưởng đến mô hình sau này. Vậy nên, chúng ta phải kiểm tra những ngoại lệ này không phải là giao dịch gian lận hay không. Nói chung, các giao dịch gian lận với số tiền rất lớn và việc xóa chúng khỏi dữ liệu có thể khiến mô hình dự đoán trở nên sai lầm."
   ],
   "id": "3dfecebf02079742"
  },
  {
   "metadata": {},
   "cell_type": "code",
   "source": [
    "plt.figure(figsize=(8,6))\n",
    "sns.boxplot(x='Class', y='Amount',data = df)\n",
    "plt.title('Phân phối số tiền cho các giao dịch gian lận và không giân lận')\n",
    "plt.savefig(os.path.join(figure_dir, \"5_boxplot_class.png\"))\n",
    "plt.show()"
   ],
   "id": "d6f66df8d5f3213a",
   "outputs": [],
   "execution_count": null
  },
  {
   "metadata": {},
   "cell_type": "markdown",
   "source": [
    "#### Highlight\n",
    "Theo biểu đồ trên, về cơ bản có thể thấy giao dịch gian lận không bị ảnh hưởng bởi các giá trị ngoại lệ, vậy nên xây dựng một mô hình dự đoán giao dịch là gian lận mà không bị ảnh hưởng. Có thể không tốt khi mô hình được huấn luyện dựa trên những giá trị ngoại lệ này."
   ],
   "id": "504cbe2f6ffbf418"
  },
  {
   "metadata": {},
   "cell_type": "markdown",
   "source": "### 7. Phân loại biến",
   "id": "49a7afdff57a073c"
  },
  {
   "metadata": {},
   "cell_type": "code",
   "source": [
    "categorical_features = ['Class']\n",
    "continuous_features = [col for col in df.columns if col not in categorical_features and col != 'Time']\n",
    "\n",
    "print(\"\\nCác đặc trưng phân loại:\", categorical_features)\n",
    "print(\"Các đặc trưng liên tục:\", continuous_features)"
   ],
   "id": "23aecdd7e2a70f21",
   "outputs": [],
   "execution_count": null
  },
  {
   "metadata": {},
   "cell_type": "markdown",
   "source": "### 8. Phân tích tương quan",
   "id": "9a11b74467c24117"
  },
  {
   "metadata": {},
   "cell_type": "code",
   "source": [
    "correlation_matrix = df.corr()\n",
    "plt.figure(figsize=(12, 10))\n",
    "sns.heatmap(correlation_matrix, cmap=\"coolwarm\", annot=False, fmt=\".2f\")\n",
    "plt.title(\"Ma trận tương quan giữa các đặc trưng\", fontsize=16)\n",
    "plt.savefig(os.path.join(figure_dir, \"6_correlation_matrix.png\"))\n",
    "plt.show()"
   ],
   "id": "62097eed7927bea8",
   "outputs": [],
   "execution_count": null
  },
  {
   "metadata": {},
   "cell_type": "markdown",
   "source": [
    "#### Highlights \n",
    "Ma trận tương quan cho thấy các mối quan hệ giữa các đặc trưng.  \n",
    "Amount và Class có tương quan rất nhỏ. V2, V4, V11 cũng có mối tương quan với Class."
   ],
   "id": "a68e35b8de280ad3"
  },
  {
   "metadata": {},
   "cell_type": "markdown",
   "source": "### 9. Phân phối các đặc trưng ẩn danh (V1 - V28)",
   "id": "89a5b19e7a0f8a83"
  },
  {
   "metadata": {},
   "cell_type": "code",
   "source": [
    "plt.figure(figsize=(15, 12))\n",
    "for i, feature in enumerate(df.columns[1:29], 1):  # Chọn cột từ V1 đến V28\n",
    "    plt.subplot(6, 5, i)\n",
    "    sns.histplot(df[feature], bins=30, kde=True, color=\"blue\")\n",
    "    plt.title(feature)\n",
    "plt.tight_layout()\n",
    "plt.savefig(os.path.join(figure_dir, \"7_correlation_matrix.png\"))\n",
    "plt.show()\n"
   ],
   "id": "4207fdbe9ddd3917",
   "outputs": [],
   "execution_count": null
  }
 ],
 "metadata": {
  "kernelspec": {
   "display_name": "Python 3",
   "language": "python",
   "name": "python3"
  },
  "language_info": {
   "codemirror_mode": {
    "name": "ipython",
    "version": 2
   },
   "file_extension": ".py",
   "mimetype": "text/x-python",
   "name": "python",
   "nbconvert_exporter": "python",
   "pygments_lexer": "ipython2",
   "version": "2.7.6"
  }
 },
 "nbformat": 4,
 "nbformat_minor": 5
}
