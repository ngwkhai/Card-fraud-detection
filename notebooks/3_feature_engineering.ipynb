{
 "cells": [
  {
   "metadata": {},
   "cell_type": "markdown",
   "source": "# Kỹ thuật xử lý thuộc tính",
   "id": "d815b33ef07dd2b1"
  },
  {
   "metadata": {},
   "cell_type": "markdown",
   "source": "### 1. Import Libraries",
   "id": "9356fec2d0c5f640"
  },
  {
   "cell_type": "code",
   "id": "initial_id",
   "metadata": {
    "collapsed": true
   },
   "source": [
    "import math\n",
    "import os\n",
    "\n",
    "import pandas as pd\n",
    "import seaborn as sns\n",
    "from matplotlib import pyplot as plt"
   ],
   "outputs": [],
   "execution_count": null
  },
  {
   "metadata": {},
   "cell_type": "markdown",
   "source": "### 2. Load processed Data",
   "id": "2b66dd4e20b9a2fc"
  },
  {
   "metadata": {},
   "cell_type": "code",
   "source": [
    "# Đường dẫn dữ liệu\n",
    "data_path = \"../data/processed/processed_data.csv\"\n",
    "figure_dir = \"../reports/figures\"\n",
    "\n",
    "# Đọc dữ liệu đã được tiền xử lý\n",
    "print(\"Loading processed data...\")\n",
    "data_processed = pd.read_csv(data_path) "
   ],
   "id": "cb12dd6a697f6056",
   "outputs": [],
   "execution_count": null
  },
  {
   "metadata": {},
   "cell_type": "markdown",
   "source": "### 3. Feature engineering on Time",
   "id": "61a2a6888b18c484"
  },
  {
   "metadata": {},
   "cell_type": "markdown",
   "source": "#### Chuyển đổi thời gian từ giây sang giờ",
   "id": "c310261bd2c17a03"
  },
  {
   "metadata": {},
   "cell_type": "code",
   "source": [
    "# Converting time from second to hour\n",
    "data_processed['Time'] = data_processed['Time'].apply(lambda sec : (sec/3600))"
   ],
   "id": "b0654951feac77bd",
   "outputs": [],
   "execution_count": null
  },
  {
   "metadata": {},
   "cell_type": "markdown",
   "source": "#### Tính giờ trong ngày",
   "id": "f29d7cc44fd5628f"
  },
  {
   "metadata": {},
   "cell_type": "code",
   "source": [
    "# Calculating hour of the day\n",
    "data_processed['Hour'] = data_processed['Time'] % 24   # 2 days of data\n",
    "data_processed['Hour'] = data_processed['Hour'].apply(lambda x : math.floor(x))"
   ],
   "id": "8ffa49deb74c0061",
   "outputs": [],
   "execution_count": null
  },
  {
   "metadata": {},
   "cell_type": "markdown",
   "source": "#### Tính các ngày",
   "id": "4274359c97f3bf8f"
  },
  {
   "metadata": {},
   "cell_type": "code",
   "source": [
    "# Calculating First and Second day\n",
    "data_processed['Day'] = data_processed['Time'] / 24   # 2 days of data\n",
    "data_processed['Day'] = data_processed['Day'].apply(lambda x : 1 if(x==0) else math.ceil(x))"
   ],
   "id": "e50bf5fffd95f9dc",
   "outputs": [],
   "execution_count": null
  },
  {
   "metadata": {},
   "cell_type": "code",
   "source": "data_processed[['Time','Hour','Day','Amount','Class']]",
   "id": "466cdc1fd41b3b6b",
   "outputs": [],
   "execution_count": null
  },
  {
   "metadata": {},
   "cell_type": "markdown",
   "source": "#### Phân bổ class theo giờ",
   "id": "46c5c7d71dbe75a1"
  },
  {
   "metadata": {},
   "cell_type": "code",
   "source": [
    "plt.figure(figsize=(8,6))\n",
    "data_processed[['Time','Hour','Day','Amount','Class']].groupby('Hour').count()['Class'].plot()\n",
    "plt.savefig(os.path.join(figure_dir, \"10_hour_count.png\"))\n",
    "plt.show()"
   ],
   "id": "a6f8f169293425c0",
   "outputs": [],
   "execution_count": null
  },
  {
   "metadata": {},
   "cell_type": "markdown",
   "source": "#### Class và day",
   "id": "38dc87547231069c"
  },
  {
   "metadata": {},
   "cell_type": "code",
   "source": [
    "dayFrdTran = data_processed[(data_processed['Class'] == 1)]['Day'].value_counts()\n",
    "print(\"Số lượng giao dịch gian lận theo ngày:\")\n",
    "print(dayFrdTran)\n",
    "\n",
    "dayGenuTran = data_processed[(data_processed['Class'] == 0)]['Day'].value_counts()\n",
    "print(\"Số lượng giao dịch không gian lận theo ngày:\")\n",
    "print(dayGenuTran)\n",
    "\n",
    "dayTran = data_processed['Day'].value_counts()\n",
    "print(\"Số lượng nhãn theo ngày:\")\n",
    "print(dayTran)\n"
   ],
   "id": "2baa8827fedf14db",
   "outputs": [],
   "execution_count": null
  },
  {
   "metadata": {},
   "cell_type": "markdown",
   "source": "#### So sánh giữa tần suất giao dịch với thời gian gian lận và không gian lận",
   "id": "89499aa8a8537645"
  },
  {
   "metadata": {},
   "cell_type": "code",
   "source": [
    "# Time plots \n",
    "fig , axs = plt.subplots(nrows = 1 , ncols = 2 , figsize = (15,8))\n",
    "\n",
    "sns.distplot(data_processed[data_processed['Class']==0]['Time'].values , color = 'green' , ax = axs[0])\n",
    "axs[0].set_title('Genuine Transactions')\n",
    "\n",
    "sns.distplot(data_processed[data_processed['Class']==1]['Time'].values , color = 'red' ,ax = axs[1])\n",
    "axs[1].set_title('Fraud Transactions')\n",
    "\n",
    "fig.suptitle('So sánh giữa tần suất giao dịch với thời gian gian lận')\n",
    "plt.savefig(os.path.join(figure_dir, \"11_genuine_fraud_tran.png\"))\n",
    "plt.show()"
   ],
   "id": "c25139693623b148",
   "outputs": [],
   "execution_count": null
  },
  {
   "metadata": {},
   "cell_type": "markdown",
   "source": "### 4. Lưu dữ liệu",
   "id": "7b864613e5c56568"
  },
  {
   "metadata": {},
   "cell_type": "code",
   "source": [
    "# Lưu dữ liệu đã thêm các tính năng\n",
    "data_processed.to_csv('../data/generated/feature_data.csv', index=False)\n",
    "print(\"Dữ liệu đã được lưu.\")"
   ],
   "id": "3cd124f9c1e3a6a7",
   "outputs": [],
   "execution_count": null
  }
 ],
 "metadata": {
  "kernelspec": {
   "display_name": "Python 3",
   "language": "python",
   "name": "python3"
  },
  "language_info": {
   "codemirror_mode": {
    "name": "ipython",
    "version": 2
   },
   "file_extension": ".py",
   "mimetype": "text/x-python",
   "name": "python",
   "nbconvert_exporter": "python",
   "pygments_lexer": "ipython2",
   "version": "2.7.6"
  }
 },
 "nbformat": 4,
 "nbformat_minor": 5
}
