{
 "cells": [
  {
   "metadata": {},
   "cell_type": "markdown",
   "source": "# Chia dữ liệu thành tập train và test",
   "id": "382569a788b2d104"
  },
  {
   "metadata": {},
   "cell_type": "markdown",
   "source": [
    "Dữ liệu được chia làm 3 dạng:\n",
    "- Dữ liệu chưa qua xử lý (Imbalance)\n",
    "- Dữ liệu đã được xử lý mất cân bằng bằng SMOTE\n",
    "- Dữ liệu đã được xử lý mất cân bằng bằn ADASYN"
   ],
   "id": "3da19351aebbb7b2"
  },
  {
   "metadata": {},
   "cell_type": "markdown",
   "source": "### 1. Import thư viện và đường dẫn",
   "id": "4a122e260b371417"
  },
  {
   "metadata": {},
   "cell_type": "code",
   "source": [
    "import os\n",
    "\n",
    "import pandas as pd\n",
    "from imblearn.over_sampling import SMOTE, ADASYN\n",
    "from matplotlib import pyplot as plt\n",
    "from sklearn.model_selection import train_test_split"
   ],
   "id": "daccc2124de1ff05",
   "outputs": [],
   "execution_count": null
  },
  {
   "cell_type": "code",
   "id": "initial_id",
   "metadata": {
    "collapsed": true
   },
   "source": [
    "data_feature_path = \"../data/generated/feature_data.csv\"\n",
    "data_split_dir = \"../data/splits\"\n",
    "os.makedirs(data_split_dir, exist_ok=True)\n",
    "figure_dir = \"../reports/figures\""
   ],
   "outputs": [],
   "execution_count": null
  },
  {
   "metadata": {},
   "cell_type": "markdown",
   "source": "#### Đọc dữ liệu đã xử lý trước",
   "id": "1f995bd93c805460"
  },
  {
   "metadata": {},
   "cell_type": "code",
   "source": "data = pd.read_csv(data_feature_path)",
   "id": "1bcdccc55412c875",
   "outputs": [],
   "execution_count": null
  },
  {
   "metadata": {},
   "cell_type": "markdown",
   "source": "### 2. Tách lấy đặc trưng",
   "id": "2de97e87a629c4b0"
  },
  {
   "metadata": {},
   "cell_type": "code",
   "source": [
    "# Xác định các cột đặc trưng và nhãn\n",
    "not_features = [\"Amount\", \"Class\", \"Scaled_Amount\", \"Scaled_Time\", \"Normalized_Amount\"]\n",
    "X = data.drop(not_features, axis=1)\n",
    "y = data[\"Class\"]\n",
    "\n",
    "print(\"Số lượng mẫu dữ liệu:\", X.shape[0])\n",
    "print(\"Phân phối nhãn:\\n\", y.value_counts())"
   ],
   "id": "b7c900b5c6eef29a",
   "outputs": [],
   "execution_count": null
  },
  {
   "metadata": {},
   "cell_type": "markdown",
   "source": "### 3. Chia dữ liệu thành tập huấn luyện và kiểm tra",
   "id": "8536a90b249b696d"
  },
  {
   "metadata": {},
   "cell_type": "markdown",
   "source": "#### Chia dữ liệu gốc (Imbalance)",
   "id": "47bac4c34c9cc31c"
  },
  {
   "metadata": {},
   "cell_type": "code",
   "source": [
    "# Chia dữ liệu thành tập huấn luyện và kiểm tra\n",
    "X_train, X_test, y_train, y_test = train_test_split(X, y, test_size=0.2, random_state=42, stratify=y)\n",
    "\n",
    "# Lưu dữ liệu gốc (không xử lý mất cân bằng)\n",
    "pd.DataFrame(X_train).to_csv(f'{data_split_dir}/X_train_imbalance.csv', index=False)\n",
    "pd.DataFrame(y_train).to_csv(f'{data_split_dir}/y_train_imbalance.csv', index=False)\n",
    "pd.DataFrame(X_test).to_csv(f'{data_split_dir}/X_test.csv', index=False)\n",
    "pd.DataFrame(y_test).to_csv(f'{data_split_dir}/y_test.csv', index=False)\n",
    "print(\"Tập chia dữ liệu gốc đã lưu.\")"
   ],
   "id": "c122fe692c0eb415",
   "outputs": [],
   "execution_count": null
  },
  {
   "metadata": {},
   "cell_type": "code",
   "source": [
    "# Kiểm tra phân phối nhãn trong tập huấn luyện và kiểm tra\n",
    "print(\"Số lượng lớp trong tập huấn luyện:\")\n",
    "train_class_counts = y_train.value_counts()\n",
    "print(train_class_counts)\n",
    "print(\"Số lượng lớp trong tập kiểm tra:\")\n",
    "test_class_counts = y_test.value_counts()\n",
    "print(test_class_counts)"
   ],
   "id": "61a909cc12e90f06",
   "outputs": [],
   "execution_count": null
  },
  {
   "metadata": {},
   "cell_type": "code",
   "source": [
    "# Vẽ biểu đồ cột phân phối nhãn trong tập huấn luyện và kiểm tra\n",
    "fig, ax = plt.subplots(1, 2, figsize=(14, 6))\n",
    "\n",
    "# Biểu đồ phân phối cho tập huấn luyện\n",
    "train_class_counts.plot(kind='bar', ax=ax[0], color=['skyblue', 'lightgreen'], title='Distribution of Class in Training Set')\n",
    "ax[0].set_ylabel('Count')\n",
    "ax[0].set_xlabel('Class')\n",
    "\n",
    "# Biểu đồ phân phối cho tập kiểm tra\n",
    "test_class_counts.plot(kind='bar', ax=ax[1], color=['skyblue', 'lightgreen'], title='Distribution of Class in Test Set')\n",
    "ax[1].set_ylabel('Count')\n",
    "ax[1].set_xlabel('Class')\n",
    "\n",
    "# Hiển thị các biểu đồ\n",
    "plt.tight_layout()\n",
    "plt.savefig(os.path.join(figure_dir, \"12_train_test_class.png\"))\n",
    "plt.show()\n"
   ],
   "id": "742bcc1bf07f6c2",
   "outputs": [],
   "execution_count": null
  },
  {
   "metadata": {},
   "cell_type": "markdown",
   "source": "#### Chia dữ liệu với SMOTE",
   "id": "7d232ddf19085a03"
  },
  {
   "metadata": {},
   "cell_type": "code",
   "source": [
    "# Áp dụng SMOTE\n",
    "smote = SMOTE(random_state=42)\n",
    "X_train_smote, y_train_smote = smote.fit_resample(X_train, y_train)\n",
    "\n",
    "# Lưu dữ liệu đã xử lý SMOTE\n",
    "pd.DataFrame(X_train_smote).to_csv(f'{data_split_dir}/X_train_smote.csv', index=False)\n",
    "pd.DataFrame(y_train_smote).to_csv(f'{data_split_dir}/y_train_smote.csv', index=False)\n",
    "print(\"Tập dữ liệu cân bằng SMOTE đã lưu.\")"
   ],
   "id": "413ca26ba9970618",
   "outputs": [],
   "execution_count": null
  },
  {
   "metadata": {},
   "cell_type": "code",
   "source": [
    "# Kiểm tra phân phối nhãn sau khi áp dụng SMOTE\n",
    "print(\"Số lượng lớp trong tập huấn luyện:\")\n",
    "train_class_smote = y_train_smote.value_counts()\n",
    "print(train_class_smote)"
   ],
   "id": "c5e85ffcd2f48ad",
   "outputs": [],
   "execution_count": null
  },
  {
   "metadata": {},
   "cell_type": "code",
   "source": [
    "# Vẽ biểu đồ phân phối nhãn sau khi áp dụng SMOTE\n",
    "train_class_smote.plot(kind=\"bar\", color=\"skyblue\")\n",
    "plt.title(\"Phân phối nhãn huấn luyện SMOTE\")\n",
    "plt.xlabel(\"Class\")\n",
    "plt.ylabel(\"Số lượng\")\n",
    "plt.savefig(os.path.join(figure_dir, \"13_train_class_smote.png\"))\n",
    "plt.show()"
   ],
   "id": "a3f6c16b1101ca4",
   "outputs": [],
   "execution_count": null
  },
  {
   "metadata": {},
   "cell_type": "markdown",
   "source": "#### Chia dữ liệu với ADASYN",
   "id": "d36286d9b8ca4716"
  },
  {
   "metadata": {},
   "cell_type": "code",
   "source": [
    "# Áp dụng ADASYN\n",
    "adasyn = ADASYN(random_state=42)\n",
    "X_train_adasyn, y_train_adasyn = adasyn.fit_resample(X_train, y_train)\n",
    "\n",
    "# Lưu dữ liệu đã xử lý ADASYN\n",
    "pd.DataFrame(X_train_adasyn).to_csv(f'{data_split_dir}/X_train_adasyn.csv', index=False)\n",
    "pd.DataFrame(y_train_adasyn).to_csv(f'{data_split_dir}/y_train_adasyn.csv', index=False)\n",
    "print(\"Tập dữ liệu cân bằng ADASYN đã lưu.\")"
   ],
   "id": "a13c88dfb3ae785e",
   "outputs": [],
   "execution_count": null
  },
  {
   "metadata": {},
   "cell_type": "code",
   "source": [
    "# Kiểm tra phân phối nhãn sau khi áp dụng ADASYN\n",
    "print(\"Số lượng lớp trong tập huấn luyện:\")\n",
    "train_class_adasyn = y_train_adasyn.value_counts()\n",
    "print(train_class_adasyn)"
   ],
   "id": "75f22ff644bc696b",
   "outputs": [],
   "execution_count": null
  },
  {
   "metadata": {},
   "cell_type": "code",
   "source": [
    "# Vẽ biểu đồ phân phối nhãn sau khi áp dụng ADASYN\n",
    "train_class_adasyn.plot(kind=\"bar\", color=\"skyblue\")\n",
    "plt.title(\"Phân phối nhãn huấn luyện ADASYN\")\n",
    "plt.xlabel(\"Class\")\n",
    "plt.ylabel(\"Số lượng\")\n",
    "plt.savefig(os.path.join(figure_dir, \"14_train_class_adasyn.png\"))\n",
    "plt.show()"
   ],
   "id": "22f83ed246b72136",
   "outputs": [],
   "execution_count": null
  }
 ],
 "metadata": {
  "kernelspec": {
   "display_name": "Python 3",
   "language": "python",
   "name": "python3"
  },
  "language_info": {
   "codemirror_mode": {
    "name": "ipython",
    "version": 2
   },
   "file_extension": ".py",
   "mimetype": "text/x-python",
   "name": "python",
   "nbconvert_exporter": "python",
   "pygments_lexer": "ipython2",
   "version": "2.7.6"
  }
 },
 "nbformat": 4,
 "nbformat_minor": 5
}
