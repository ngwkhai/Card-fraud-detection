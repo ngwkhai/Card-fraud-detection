{
 "cells": [
  {
   "metadata": {},
   "cell_type": "markdown",
   "source": "# Xây dụng mô hình",
   "id": "500a61cf4ea3220e"
  },
  {
   "metadata": {},
   "cell_type": "markdown",
   "source": "### 1. Import các thư viện cần thiết",
   "id": "58e1282b3f3dec61"
  },
  {
   "metadata": {},
   "cell_type": "code",
   "source": [
    "import pandas as pd\n",
    "from sklearn.linear_model import LogisticRegression\n",
    "from sklearn.tree import DecisionTreeClassifier\n",
    "from sklearn.ensemble import RandomForestClassifier\n",
    "from xgboost import XGBClassifier\n",
    "from sklearn.metrics import accuracy_score, classification_report, roc_auc_score\n",
    "import pickle\n"
   ],
   "id": "64ffa8da2bc017c1",
   "outputs": [],
   "execution_count": null
  },
  {
   "metadata": {},
   "cell_type": "markdown",
   "source": "### 2. Tải dữ liệu đã chia",
   "id": "9bbcd55951c64290"
  },
  {
   "metadata": {},
   "cell_type": "code",
   "source": [
    "# Đọc dữ liệu đã được tiền xử lý\n",
    "print(\"Loading splits data...\")\n",
    "X_train_imbalance = pd.read_csv('../data/splits/X_train_imbalance.csv')\n",
    "y_train_imbalance = pd.read_csv('../data/splits/y_train_imbalance.csv')\n",
    "X_train_smote = pd.read_csv('../data/splits/X_train_smote.csv')\n",
    "y_train_smote = pd.read_csv('../data/splits/y_train_smote.csv')\n",
    "X_train_adasyn = pd.read_csv('../data/splits/X_train_adasyn.csv')\n",
    "y_train_adasyn = pd.read_csv('../data/splits/y_train_adasyn.csv')\n"
   ],
   "id": "229ece826c432d83",
   "outputs": [],
   "execution_count": null
  },
  {
   "metadata": {},
   "cell_type": "markdown",
   "source": "### 3. Định nghĩa hàm huấn luyện và lưu mô hình",
   "id": "636abd8d68bce4f5"
  },
  {
   "metadata": {},
   "cell_type": "code",
   "source": [
    "def train_and_save_model(X_train, y_train, model, model_name, output_dir=\"../models/\"):\n",
    "    # Huấn luyện mô hình\n",
    "    model.fit(X_train, y_train)\n",
    "    y_pred = model.predict(X_train)\n",
    "    \n",
    "    # Đánh giá sơ bộ trên tập huấn luyện\n",
    "    print(f\"Model: {model_name}\")\n",
    "    print(f\"Accuracy on Training Set: {accuracy_score(y_train, y_pred):.4f}\")\n",
    "    print(classification_report(y_train, y_pred))\n",
    "\n",
    "    # Lưu mô hình\n",
    "    model_path = output_dir + model_name + \".pkl\"\n",
    "    with open(model_path, \"wb\") as file:\n",
    "        pickle.dump(model, file)\n",
    "    print(f\"Model saved at {model_path}\\n\")\n"
   ],
   "id": "15f7f4bfae101e51",
   "outputs": [],
   "execution_count": null
  },
  {
   "metadata": {},
   "cell_type": "markdown",
   "source": "### 4. Huấn luyện trên dữ liệu Imbalance",
   "id": "a350c239d513f708"
  },
  {
   "metadata": {},
   "cell_type": "code",
   "source": [
    "# Huấn luyện Logistic Regression\n",
    "logistic_model = LogisticRegression(max_iter=1000, random_state=42)\n",
    "train_and_save_model(X_train_imbalance, y_train_imbalance, logistic_model, \"logistic_imbalance\")\n",
    "\n",
    "# Huấn luyện Decision Tree\n",
    "dt_model = DecisionTreeClassifier(random_state=42)\n",
    "train_and_save_model(X_train_imbalance, y_train_imbalance, dt_model, \"decision_tree_imbalance\")\n",
    "\n",
    "# Huấn luyện Random Forest\n",
    "rf_model = RandomForestClassifier(n_estimators=100, random_state=42)\n",
    "train_and_save_model(X_train_imbalance, y_train_imbalance, rf_model, \"random_forest_imbalance\")\n",
    "\n",
    "# Huấn luyện XGBoost\n",
    "xgb_model = XGBClassifier(use_label_encoder=False, eval_metric=\"logloss\", random_state=42)\n",
    "train_and_save_model(X_train_imbalance, y_train_imbalance, xgb_model, \"xgboost_imbalance\")\n"
   ],
   "id": "80082ece8a539ae8",
   "outputs": [],
   "execution_count": null
  },
  {
   "metadata": {},
   "cell_type": "markdown",
   "source": "### 5. Huấn luyện trên dữ liệu SMOTE",
   "id": "f5b2da8fad55d536"
  },
  {
   "metadata": {},
   "cell_type": "code",
   "source": [
    "# Huấn luyện Logistic Regression\n",
    "train_and_save_model(X_train_smote, y_train_smote, logistic_model, \"logistic_smote\")\n",
    "\n",
    "# Huấn luyện Decision Tree\n",
    "train_and_save_model(X_train_smote, y_train_smote, dt_model, \"decision_tree_smote\")\n",
    "\n",
    "# Huấn luyện Random Forest\n",
    "train_and_save_model(X_train_smote, y_train_smote, rf_model, \"random_forest_smote\")\n",
    "\n",
    "# Huấn luyện XGBoost\n",
    "train_and_save_model(X_train_smote, y_train_smote, xgb_model, \"xgboost_smote\")\n"
   ],
   "id": "19314462596978c7",
   "outputs": [],
   "execution_count": null
  },
  {
   "metadata": {},
   "cell_type": "markdown",
   "source": "### 6. Huấn luyện trên dữ liệu ADASYN",
   "id": "2c2b9e3967075072"
  },
  {
   "metadata": {},
   "cell_type": "code",
   "source": [
    "# Huấn luyện Logistic Regression\n",
    "train_and_save_model(X_train_adasyn, y_train_adasyn, logistic_model, \"logistic_adasyn\")\n",
    "\n",
    "# Huấn luyện Decision Tree\n",
    "train_and_save_model(X_train_adasyn, y_train_adasyn, dt_model, \"decision_tree_adasyn\")\n",
    "\n",
    "# Huấn luyện Random Forest\n",
    "train_and_save_model(X_train_adasyn, y_train_adasyn, rf_model, \"random_forest_adasyn\")\n",
    "\n",
    "# Huấn luyện XGBoost\n",
    "train_and_save_model(X_train_adasyn, y_train_adasyn, xgb_model, \"xgboost_adasyn\")\n"
   ],
   "id": "faed079f5c54a6a6",
   "outputs": [],
   "execution_count": null
  }
 ],
 "metadata": {
  "kernelspec": {
   "display_name": "Python 3",
   "language": "python",
   "name": "python3"
  },
  "language_info": {
   "codemirror_mode": {
    "name": "ipython",
    "version": 2
   },
   "file_extension": ".py",
   "mimetype": "text/x-python",
   "name": "python",
   "nbconvert_exporter": "python",
   "pygments_lexer": "ipython2",
   "version": "2.7.6"
  }
 },
 "nbformat": 4,
 "nbformat_minor": 5
}
