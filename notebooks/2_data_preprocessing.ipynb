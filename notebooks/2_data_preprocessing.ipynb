{
 "cells": [
  {
   "metadata": {},
   "cell_type": "markdown",
   "source": [
    "# Tiền xử lý dữ liệu\n",
    "File này sẽ thực hiện các bước xử lý dữ liệu để chuẩn bị cho quá trình huấn luyện mô hình.\n",
    "\n",
    "Mục tiêu chính:\n",
    "1. Kiểm tra dữ liệu và xử lý thiếu giá trị (nếu có).\n",
    "2. Chuẩn hóa và chuẩn hóa lại dữ liệu, đặc biệt là các cột 'Time' và 'Amount'.\n",
    "3. Phân tích tương quan giữa các đặc trưng để xác định những đặc trưng quan trọng.\n",
    "4. Lưu bộ dữ liệu đã xử lý vào thư mục 'data/processed/'.\n"
   ],
   "id": "5555ea678a450fc8"
  },
  {
   "metadata": {},
   "cell_type": "markdown",
   "source": "### 1. Load dữ liệu",
   "id": "a06a76024df3724"
  },
  {
   "metadata": {},
   "cell_type": "markdown",
   "source": "#### Thư viện cần thiết",
   "id": "5dc0a72a69b5ae51"
  },
  {
   "metadata": {
    "ExecuteTime": {
     "end_time": "2024-12-03T02:31:26.606124Z",
     "start_time": "2024-12-03T02:31:26.574693Z"
    }
   },
   "cell_type": "code",
   "source": [
    "import pandas as pd\n",
    "import numpy as np\n",
    "import seaborn as sns\n",
    "import matplotlib.pyplot as plt"
   ],
   "id": "5f21f10b3d599426",
   "outputs": [],
   "execution_count": 20
  },
  {
   "metadata": {},
   "cell_type": "markdown",
   "source": "",
   "id": "ea718da62c0c645"
  },
  {
   "metadata": {},
   "cell_type": "markdown",
   "source": "#### Đọc dữ liệu",
   "id": "6555b3266ec7b842"
  },
  {
   "cell_type": "code",
   "id": "initial_id",
   "metadata": {
    "collapsed": true,
    "ExecuteTime": {
     "end_time": "2024-12-03T02:31:29.805928Z",
     "start_time": "2024-12-03T02:31:26.648303Z"
    }
   },
   "source": [
    "# Đường dẫn dữ liệu\n",
    "data_path = \"../data/raw/creditcard.csv\"\n",
    "\n",
    "# Đọc dữ liệu\n",
    "data = pd.read_csv(data_path)\n",
    "\n",
    "# Thông tin cơ bản về dữ liệu\n",
    "print(\"Thông tin dữ liệu:\")\n",
    "data.info()\n",
    "\n",
    "# Xem 5 dòng đầu tiên\n",
    "data.head()\n"
   ],
   "outputs": [
    {
     "name": "stdout",
     "output_type": "stream",
     "text": [
      "Thông tin dữ liệu:\n",
      "<class 'pandas.core.frame.DataFrame'>\n",
      "RangeIndex: 284807 entries, 0 to 284806\n",
      "Data columns (total 31 columns):\n",
      " #   Column  Non-Null Count   Dtype  \n",
      "---  ------  --------------   -----  \n",
      " 0   Time    284807 non-null  float64\n",
      " 1   V1      284807 non-null  float64\n",
      " 2   V2      284807 non-null  float64\n",
      " 3   V3      284807 non-null  float64\n",
      " 4   V4      284807 non-null  float64\n",
      " 5   V5      284807 non-null  float64\n",
      " 6   V6      284807 non-null  float64\n",
      " 7   V7      284807 non-null  float64\n",
      " 8   V8      284807 non-null  float64\n",
      " 9   V9      284807 non-null  float64\n",
      " 10  V10     284807 non-null  float64\n",
      " 11  V11     284807 non-null  float64\n",
      " 12  V12     284807 non-null  float64\n",
      " 13  V13     284807 non-null  float64\n",
      " 14  V14     284807 non-null  float64\n",
      " 15  V15     284807 non-null  float64\n",
      " 16  V16     284807 non-null  float64\n",
      " 17  V17     284807 non-null  float64\n",
      " 18  V18     284807 non-null  float64\n",
      " 19  V19     284807 non-null  float64\n",
      " 20  V20     284807 non-null  float64\n",
      " 21  V21     284807 non-null  float64\n",
      " 22  V22     284807 non-null  float64\n",
      " 23  V23     284807 non-null  float64\n",
      " 24  V24     284807 non-null  float64\n",
      " 25  V25     284807 non-null  float64\n",
      " 26  V26     284807 non-null  float64\n",
      " 27  V27     284807 non-null  float64\n",
      " 28  V28     284807 non-null  float64\n",
      " 29  Amount  284807 non-null  float64\n",
      " 30  Class   284807 non-null  int64  \n",
      "dtypes: float64(30), int64(1)\n",
      "memory usage: 67.4 MB\n"
     ]
    },
    {
     "data": {
      "text/plain": [
       "   Time        V1        V2        V3        V4        V5        V6        V7  \\\n",
       "0   0.0 -1.359807 -0.072781  2.536347  1.378155 -0.338321  0.462388  0.239599   \n",
       "1   0.0  1.191857  0.266151  0.166480  0.448154  0.060018 -0.082361 -0.078803   \n",
       "2   1.0 -1.358354 -1.340163  1.773209  0.379780 -0.503198  1.800499  0.791461   \n",
       "3   1.0 -0.966272 -0.185226  1.792993 -0.863291 -0.010309  1.247203  0.237609   \n",
       "4   2.0 -1.158233  0.877737  1.548718  0.403034 -0.407193  0.095921  0.592941   \n",
       "\n",
       "         V8        V9  ...       V21       V22       V23       V24       V25  \\\n",
       "0  0.098698  0.363787  ... -0.018307  0.277838 -0.110474  0.066928  0.128539   \n",
       "1  0.085102 -0.255425  ... -0.225775 -0.638672  0.101288 -0.339846  0.167170   \n",
       "2  0.247676 -1.514654  ...  0.247998  0.771679  0.909412 -0.689281 -0.327642   \n",
       "3  0.377436 -1.387024  ... -0.108300  0.005274 -0.190321 -1.175575  0.647376   \n",
       "4 -0.270533  0.817739  ... -0.009431  0.798278 -0.137458  0.141267 -0.206010   \n",
       "\n",
       "        V26       V27       V28  Amount  Class  \n",
       "0 -0.189115  0.133558 -0.021053  149.62      0  \n",
       "1  0.125895 -0.008983  0.014724    2.69      0  \n",
       "2 -0.139097 -0.055353 -0.059752  378.66      0  \n",
       "3 -0.221929  0.062723  0.061458  123.50      0  \n",
       "4  0.502292  0.219422  0.215153   69.99      0  \n",
       "\n",
       "[5 rows x 31 columns]"
      ],
      "text/html": [
       "<div>\n",
       "<style scoped>\n",
       "    .dataframe tbody tr th:only-of-type {\n",
       "        vertical-align: middle;\n",
       "    }\n",
       "\n",
       "    .dataframe tbody tr th {\n",
       "        vertical-align: top;\n",
       "    }\n",
       "\n",
       "    .dataframe thead th {\n",
       "        text-align: right;\n",
       "    }\n",
       "</style>\n",
       "<table border=\"1\" class=\"dataframe\">\n",
       "  <thead>\n",
       "    <tr style=\"text-align: right;\">\n",
       "      <th></th>\n",
       "      <th>Time</th>\n",
       "      <th>V1</th>\n",
       "      <th>V2</th>\n",
       "      <th>V3</th>\n",
       "      <th>V4</th>\n",
       "      <th>V5</th>\n",
       "      <th>V6</th>\n",
       "      <th>V7</th>\n",
       "      <th>V8</th>\n",
       "      <th>V9</th>\n",
       "      <th>...</th>\n",
       "      <th>V21</th>\n",
       "      <th>V22</th>\n",
       "      <th>V23</th>\n",
       "      <th>V24</th>\n",
       "      <th>V25</th>\n",
       "      <th>V26</th>\n",
       "      <th>V27</th>\n",
       "      <th>V28</th>\n",
       "      <th>Amount</th>\n",
       "      <th>Class</th>\n",
       "    </tr>\n",
       "  </thead>\n",
       "  <tbody>\n",
       "    <tr>\n",
       "      <th>0</th>\n",
       "      <td>0.0</td>\n",
       "      <td>-1.359807</td>\n",
       "      <td>-0.072781</td>\n",
       "      <td>2.536347</td>\n",
       "      <td>1.378155</td>\n",
       "      <td>-0.338321</td>\n",
       "      <td>0.462388</td>\n",
       "      <td>0.239599</td>\n",
       "      <td>0.098698</td>\n",
       "      <td>0.363787</td>\n",
       "      <td>...</td>\n",
       "      <td>-0.018307</td>\n",
       "      <td>0.277838</td>\n",
       "      <td>-0.110474</td>\n",
       "      <td>0.066928</td>\n",
       "      <td>0.128539</td>\n",
       "      <td>-0.189115</td>\n",
       "      <td>0.133558</td>\n",
       "      <td>-0.021053</td>\n",
       "      <td>149.62</td>\n",
       "      <td>0</td>\n",
       "    </tr>\n",
       "    <tr>\n",
       "      <th>1</th>\n",
       "      <td>0.0</td>\n",
       "      <td>1.191857</td>\n",
       "      <td>0.266151</td>\n",
       "      <td>0.166480</td>\n",
       "      <td>0.448154</td>\n",
       "      <td>0.060018</td>\n",
       "      <td>-0.082361</td>\n",
       "      <td>-0.078803</td>\n",
       "      <td>0.085102</td>\n",
       "      <td>-0.255425</td>\n",
       "      <td>...</td>\n",
       "      <td>-0.225775</td>\n",
       "      <td>-0.638672</td>\n",
       "      <td>0.101288</td>\n",
       "      <td>-0.339846</td>\n",
       "      <td>0.167170</td>\n",
       "      <td>0.125895</td>\n",
       "      <td>-0.008983</td>\n",
       "      <td>0.014724</td>\n",
       "      <td>2.69</td>\n",
       "      <td>0</td>\n",
       "    </tr>\n",
       "    <tr>\n",
       "      <th>2</th>\n",
       "      <td>1.0</td>\n",
       "      <td>-1.358354</td>\n",
       "      <td>-1.340163</td>\n",
       "      <td>1.773209</td>\n",
       "      <td>0.379780</td>\n",
       "      <td>-0.503198</td>\n",
       "      <td>1.800499</td>\n",
       "      <td>0.791461</td>\n",
       "      <td>0.247676</td>\n",
       "      <td>-1.514654</td>\n",
       "      <td>...</td>\n",
       "      <td>0.247998</td>\n",
       "      <td>0.771679</td>\n",
       "      <td>0.909412</td>\n",
       "      <td>-0.689281</td>\n",
       "      <td>-0.327642</td>\n",
       "      <td>-0.139097</td>\n",
       "      <td>-0.055353</td>\n",
       "      <td>-0.059752</td>\n",
       "      <td>378.66</td>\n",
       "      <td>0</td>\n",
       "    </tr>\n",
       "    <tr>\n",
       "      <th>3</th>\n",
       "      <td>1.0</td>\n",
       "      <td>-0.966272</td>\n",
       "      <td>-0.185226</td>\n",
       "      <td>1.792993</td>\n",
       "      <td>-0.863291</td>\n",
       "      <td>-0.010309</td>\n",
       "      <td>1.247203</td>\n",
       "      <td>0.237609</td>\n",
       "      <td>0.377436</td>\n",
       "      <td>-1.387024</td>\n",
       "      <td>...</td>\n",
       "      <td>-0.108300</td>\n",
       "      <td>0.005274</td>\n",
       "      <td>-0.190321</td>\n",
       "      <td>-1.175575</td>\n",
       "      <td>0.647376</td>\n",
       "      <td>-0.221929</td>\n",
       "      <td>0.062723</td>\n",
       "      <td>0.061458</td>\n",
       "      <td>123.50</td>\n",
       "      <td>0</td>\n",
       "    </tr>\n",
       "    <tr>\n",
       "      <th>4</th>\n",
       "      <td>2.0</td>\n",
       "      <td>-1.158233</td>\n",
       "      <td>0.877737</td>\n",
       "      <td>1.548718</td>\n",
       "      <td>0.403034</td>\n",
       "      <td>-0.407193</td>\n",
       "      <td>0.095921</td>\n",
       "      <td>0.592941</td>\n",
       "      <td>-0.270533</td>\n",
       "      <td>0.817739</td>\n",
       "      <td>...</td>\n",
       "      <td>-0.009431</td>\n",
       "      <td>0.798278</td>\n",
       "      <td>-0.137458</td>\n",
       "      <td>0.141267</td>\n",
       "      <td>-0.206010</td>\n",
       "      <td>0.502292</td>\n",
       "      <td>0.219422</td>\n",
       "      <td>0.215153</td>\n",
       "      <td>69.99</td>\n",
       "      <td>0</td>\n",
       "    </tr>\n",
       "  </tbody>\n",
       "</table>\n",
       "<p>5 rows × 31 columns</p>\n",
       "</div>"
      ]
     },
     "execution_count": 21,
     "metadata": {},
     "output_type": "execute_result"
    }
   ],
   "execution_count": 21
  },
  {
   "metadata": {},
   "cell_type": "markdown",
   "source": "### 2. Xử lý thiếu dữ liệu",
   "id": "10abe270a82dd856"
  },
  {
   "metadata": {
    "ExecuteTime": {
     "end_time": "2024-12-03T02:31:30.367316Z",
     "start_time": "2024-12-03T02:31:30.309283Z"
    }
   },
   "cell_type": "code",
   "source": [
    "# Kiểm tra giá trị thiếu\n",
    "print(\"\\nKiểm tra giá trị thiếu:\")\n",
    "missing_values = data.isnull().sum()\n",
    "print(missing_values)\n",
    "\n",
    "# Xác nhận không có giá trị thiếu\n",
    "if missing_values.sum() == 0:\n",
    "    print(\"Không có giá trị thiếu trong dữ liệu.\")\n"
   ],
   "id": "7e1342186e0d4879",
   "outputs": [
    {
     "name": "stdout",
     "output_type": "stream",
     "text": [
      "\n",
      "Kiểm tra giá trị thiếu:\n",
      "Time      0\n",
      "V1        0\n",
      "V2        0\n",
      "V3        0\n",
      "V4        0\n",
      "V5        0\n",
      "V6        0\n",
      "V7        0\n",
      "V8        0\n",
      "V9        0\n",
      "V10       0\n",
      "V11       0\n",
      "V12       0\n",
      "V13       0\n",
      "V14       0\n",
      "V15       0\n",
      "V16       0\n",
      "V17       0\n",
      "V18       0\n",
      "V19       0\n",
      "V20       0\n",
      "V21       0\n",
      "V22       0\n",
      "V23       0\n",
      "V24       0\n",
      "V25       0\n",
      "V26       0\n",
      "V27       0\n",
      "V28       0\n",
      "Amount    0\n",
      "Class     0\n",
      "dtype: int64\n",
      "Không có giá trị thiếu trong dữ liệu.\n"
     ]
    }
   ],
   "execution_count": 22
  },
  {
   "metadata": {},
   "cell_type": "markdown",
   "source": "Dữ liệu này không có giá trị thiếu nên không cần thực hiện bước điền giá trị.\n",
   "id": "136af70cec4e29bd"
  },
  {
   "metadata": {},
   "cell_type": "markdown",
   "source": "### 3. Loại bỏ ngoại lệ (Outlier Detection & Removal)",
   "id": "da779a56fe9cedb"
  },
  {
   "metadata": {},
   "cell_type": "markdown",
   "source": "#### Phát hiện ngoại lệ bằng IQR (Interquartile Range)",
   "id": "1529192b9592fedb"
  },
  {
   "metadata": {
    "ExecuteTime": {
     "end_time": "2024-12-03T02:35:36.957368Z",
     "start_time": "2024-12-03T02:35:36.675580Z"
    }
   },
   "cell_type": "code",
   "source": [
    "# Tính phân vị 99.5 của Amount trong lớp không gian lận (Class = 0)\n",
    "threshold = data[data['Class'] == 0]['Amount'].quantile(0.9995)\n",
    "\n",
    "print(f\"Ngưỡng loại bỏ cho Amount (dựa trên phân vị 99.95): {threshold}\")\n",
    "\n",
    "# Loại bỏ các giao dịch có Amount vượt quá ngưỡng trong lớp không gian lận\n",
    "data_cleaned = data[~((data['Class'] == 0) & (data['Amount'] > threshold))]\n",
    "\n",
    "# Kết quả trước và sau khi loại bỏ\n",
    "print(f\"Số lượng giao dịch ban đầu: {len(data_cleaned)}\")\n",
    "print(f\"Số lượng giao dịch sau khi loại bỏ ngoại lệ: {len(data_cleaned)}\")\n"
   ],
   "id": "67679f7e691fb788",
   "outputs": [
    {
     "name": "stdout",
     "output_type": "stream",
     "text": [
      "Ngưỡng loại bỏ cho Amount (dựa trên phân vị 99.95): 3820.7249799999945\n",
      "Số lượng giao dịch ban đầu: 284664\n",
      "Số lượng giao dịch sau khi loại bỏ ngoại lệ: 284664\n"
     ]
    }
   ],
   "execution_count": 35
  },
  {
   "metadata": {},
   "cell_type": "markdown",
   "source": "#### So sánh trước và sau khi loại bỏ ngoại lệ (Visualization)",
   "id": "4ad603e228132b9c"
  },
  {
   "metadata": {
    "ExecuteTime": {
     "end_time": "2024-12-03T02:35:17.742089Z",
     "start_time": "2024-12-03T02:35:16.680408Z"
    }
   },
   "cell_type": "code",
   "source": [
    "plt.figure(figsize=(8,6))\n",
    "sns.boxplot(x='Class', y='Amount',data = data_cleaned)\n",
    "plt.title('Phân phối số tiền cho các giao dịch gian lận và không giân lận')\n",
    "plt.show()"
   ],
   "id": "196cdb3aba4e7add",
   "outputs": [
    {
     "data": {
      "text/plain": [
       "<Figure size 800x600 with 1 Axes>"
      ],
      "image/png": "[encoded data removed]"
     },
     "metadata": {},
     "output_type": "display_data"
    }
   ],
   "execution_count": 34
  },
  {
   "metadata": {},
   "cell_type": "markdown",
   "source": "## 4. Chuẩn hóa dữ liệu (Normalization vs. Standardization)\n",
   "id": "5a49ab76271029f"
  },
  {
   "metadata": {},
   "cell_type": "markdown",
   "source": "Chuẩn hóa cột Amount và Time: Giúp các thuật toán học máy không bị ảnh hưởng bởi sự khác biệt về thang đo.",
   "id": "4901c29ebe487b56"
  },
  {
   "metadata": {},
   "cell_type": "markdown",
   "source": "#### 3.1. Log Transformation",
   "id": "3cd2cba3b8173864"
  },
  {
   "metadata": {},
   "cell_type": "markdown",
   "source": "Giải thích: Chuyển đổi Amount để giảm ảnh hưởng của các giá trị cực lớn.",
   "id": "dbef8d66c2dec831"
  },
  {
   "metadata": {
    "ExecuteTime": {
     "end_time": "2024-12-03T02:37:29.791323Z",
     "start_time": "2024-12-03T02:37:29.724038Z"
    }
   },
   "cell_type": "code",
   "source": [
    "# Log transform cho cột Amount\n",
    "data_cleaned['Log_Amount'] = np.log1p(data_cleaned['Amount'])\n",
    "\n",
    "# So sánh trước và sau chuẩn hóa\n",
    "print(\"Trước chuẩn hóa:\", data_cleaned['Amount'].describe())\n",
    "print(\"Sau chuẩn hóa:\", data_cleaned['Log_Amount'].describe())\n"
   ],
   "id": "46ce3310a1572a5d",
   "outputs": [
    {
     "name": "stdout",
     "output_type": "stream",
     "text": [
      "Trước chuẩn hóa: count    284664.000000\n",
      "mean         85.580741\n",
      "std         207.617633\n",
      "min           0.000000\n",
      "25%           5.560000\n",
      "50%          22.000000\n",
      "75%          77.000000\n",
      "max        3820.000000\n",
      "Name: Amount, dtype: float64\n",
      "Sau chuẩn hóa: count    284664.000000\n",
      "mean          3.149472\n",
      "std           1.652609\n",
      "min           0.000000\n",
      "25%           1.880991\n",
      "50%           3.135494\n",
      "75%           4.356709\n",
      "max           8.248267\n",
      "Name: Log_Amount, dtype: float64\n"
     ]
    },
    {
     "name": "stderr",
     "output_type": "stream",
     "text": [
      "/var/folders/rz/mr63129s7vs6092h_t0czm140000gn/T/ipykernel_5270/2142103356.py:2: SettingWithCopyWarning: \n",
      "A value is trying to be set on a copy of a slice from a DataFrame.\n",
      "Try using .loc[row_indexer,col_indexer] = value instead\n",
      "\n",
      "See the caveats in the documentation: https://pandas.pydata.org/pandas-docs/stable/user_guide/indexing.html#returning-a-view-versus-a-copy\n",
      "  data_cleaned['Log_Amount'] = np.log1p(data_cleaned['Amount'])\n"
     ]
    }
   ],
   "execution_count": 36
  },
  {
   "metadata": {},
   "cell_type": "markdown",
   "source": "#### 3.2. Standardization",
   "id": "b23e0a0367cc989a"
  },
  {
   "metadata": {},
   "cell_type": "markdown",
   "source": "Giải thích: Chuẩn hóa dữ liệu bằng cách đưa về phân phối chuẩn (mean = 0, std = 1).",
   "id": "5935a85dd1621032"
  },
  {
   "metadata": {},
   "cell_type": "code",
   "outputs": [],
   "execution_count": null,
   "source": [
    "from sklearn.preprocessing import StandardScaler\n",
    "\n",
    "# Standardization cho Amount và Time\n",
    "scaler = StandardScaler()\n",
    "data_cleaned['Scaled_Amount'] = scaler.fit_transform(data_cleaned[['Amount']])\n",
    "data_cleaned['Scaled_Time'] = scaler.fit_transform(data_cleaned[['Time']])\n"
   ],
   "id": "1ff4e3ea81276142"
  },
  {
   "metadata": {},
   "cell_type": "markdown",
   "source": "#### 3.3. Normalization (Min-Max)",
   "id": "bd12a2fa12ecdbcc"
  },
  {
   "metadata": {},
   "cell_type": "markdown",
   "source": "Giải thích: Chuẩn hóa cột Amount trong khoảng [0, 1].",
   "id": "cd340f2f1db11a73"
  },
  {
   "metadata": {},
   "cell_type": "code",
   "outputs": [],
   "execution_count": null,
   "source": [
    "from sklearn.preprocessing import MinMaxScaler\n",
    "\n",
    "minmax_scaler = MinMaxScaler()\n",
    "data_cleaned['Normalized_Amount'] = minmax_scaler.fit_transform(data_cleaned[['Amount']])\n"
   ],
   "id": "3fc604b84424e4ac"
  }
 ],
 "metadata": {
  "kernelspec": {
   "display_name": "Python 3",
   "language": "python",
   "name": "python3"
  },
  "language_info": {
   "codemirror_mode": {
    "name": "ipython",
    "version": 2
   },
   "file_extension": ".py",
   "mimetype": "text/x-python",
   "name": "python",
   "nbconvert_exporter": "python",
   "pygments_lexer": "ipython2",
   "version": "2.7.6"
  }
 },
 "nbformat": 4,
 "nbformat_minor": 5
}
