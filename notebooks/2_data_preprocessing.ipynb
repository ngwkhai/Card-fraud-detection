{
 "cells": [
  {
   "metadata": {},
   "cell_type": "markdown",
   "source": [
    "# Tiền xử lý dữ liệu\n",
    "File này sẽ thực hiện các bước xử lý dữ liệu để chuẩn bị cho quá trình huấn luyện mô hình.\n",
    "\n",
    "Mục tiêu chính:\n",
    "1. Kiểm tra dữ liệu và xử lý thiếu giá trị (nếu có).\n",
    "2. Chuẩn hóa và chuẩn hóa lại dữ liệu, đặc biệt là các cột 'Time' và 'Amount'.\n",
    "3. Phân tích tương quan giữa các đặc trưng để xác định những đặc trưng quan trọng.\n",
    "4. Lưu bộ dữ liệu đã xử lý vào thư mục 'data/processed/'.\n"
   ],
   "id": "5555ea678a450fc8"
  },
  {
   "metadata": {},
   "cell_type": "markdown",
   "source": "### 1. Load dữ liệu",
   "id": "a06a76024df3724"
  },
  {
   "metadata": {},
   "cell_type": "markdown",
   "source": "#### Thư viện cần thiết",
   "id": "5dc0a72a69b5ae51"
  },
  {
   "metadata": {},
   "cell_type": "code",
   "source": [
    "import os\n",
    "\n",
    "import pandas as pd\n",
    "import numpy as np\n",
    "import seaborn as sns\n",
    "import matplotlib.pyplot as plt"
   ],
   "id": "5f21f10b3d599426",
   "outputs": [],
   "execution_count": null
  },
  {
   "metadata": {},
   "cell_type": "markdown",
   "source": "",
   "id": "ea718da62c0c645"
  },
  {
   "metadata": {},
   "cell_type": "markdown",
   "source": "#### Đọc dữ liệu",
   "id": "6555b3266ec7b842"
  },
  {
   "cell_type": "code",
   "id": "initial_id",
   "metadata": {
    "collapsed": true
   },
   "source": [
    "# Đường dẫn dữ liệu\n",
    "data_path = \"../data/raw/creditcard.csv\"\n",
    "figure_dir = \"../reports/figures\"\n",
    "\n",
    "# Đọc dữ liệu\n",
    "data = pd.read_csv(data_path)\n",
    "\n",
    "# Thông tin cơ bản về dữ liệu\n",
    "print(\"Thông tin dữ liệu:\")\n",
    "data.info()\n",
    "\n",
    "# Xem 5 dòng đầu tiên\n",
    "data.head()\n"
   ],
   "outputs": [],
   "execution_count": null
  },
  {
   "metadata": {},
   "cell_type": "markdown",
   "source": "### 2. Xử lý thiếu dữ liệu",
   "id": "10abe270a82dd856"
  },
  {
   "metadata": {},
   "cell_type": "code",
   "source": [
    "# Kiểm tra giá trị thiếu\n",
    "print(\"\\nKiểm tra giá trị thiếu:\")\n",
    "missing_values = data.isnull().sum()\n",
    "print(missing_values)\n",
    "\n",
    "# Xác nhận không có giá trị thiếu\n",
    "if missing_values.sum() == 0:\n",
    "    print(\"Không có giá trị thiếu trong dữ liệu.\")\n"
   ],
   "id": "7e1342186e0d4879",
   "outputs": [],
   "execution_count": null
  },
  {
   "metadata": {},
   "cell_type": "markdown",
   "source": "Dữ liệu này không có giá trị thiếu nên không cần thực hiện bước điền giá trị.\n",
   "id": "136af70cec4e29bd"
  },
  {
   "metadata": {},
   "cell_type": "markdown",
   "source": "### 3. Loại bỏ ngoại lệ (Outlier Detection & Removal)",
   "id": "da779a56fe9cedb"
  },
  {
   "metadata": {},
   "cell_type": "markdown",
   "source": "#### Phát hiện ngoại lệ bằng IQR (Interquartile Range)",
   "id": "1529192b9592fedb"
  },
  {
   "metadata": {},
   "cell_type": "code",
   "source": [
    "# Tính phân vị 99.5 của Amount trong lớp không gian lận (Class = 0)\n",
    "threshold = data[data['Class'] == 0]['Amount'].quantile(0.9995)\n",
    "\n",
    "print(f\"Ngưỡng loại bỏ cho Amount (dựa trên phân vị 99.95): {threshold}\")\n",
    "\n",
    "# Loại bỏ các giao dịch có Amount vượt quá ngưỡng trong lớp không gian lận\n",
    "data_cleaned = data[~((data['Class'] == 0) & (data['Amount'] > threshold))]\n",
    "\n",
    "# Kết quả trước và sau khi loại bỏ\n",
    "print(f\"Số lượng giao dịch ban đầu: {len(data_cleaned)}\")\n",
    "print(f\"Số lượng giao dịch sau khi loại bỏ ngoại lệ: {len(data_cleaned)}\")\n"
   ],
   "id": "67679f7e691fb788",
   "outputs": [],
   "execution_count": null
  },
  {
   "metadata": {},
   "cell_type": "markdown",
   "source": "#### So sánh trước và sau khi loại bỏ ngoại lệ (Visualization)",
   "id": "4ad603e228132b9c"
  },
  {
   "metadata": {},
   "cell_type": "code",
   "source": [
    "plt.figure(figsize=(8,6))\n",
    "sns.boxplot(x='Class', y='Amount',data = data_cleaned)\n",
    "plt.title('Phân phối số tiền cho các giao dịch gian lận và không giân lận')\n",
    "plt.savefig(os.path.join(figure_dir, \"8_boxplot_outlier.png\"))\n",
    "plt.show()"
   ],
   "id": "196cdb3aba4e7add",
   "outputs": [],
   "execution_count": null
  },
  {
   "metadata": {},
   "cell_type": "markdown",
   "source": "## 4. Chuẩn hóa dữ liệu (Normalization vs. Standardization)\n",
   "id": "5a49ab76271029f"
  },
  {
   "metadata": {},
   "cell_type": "markdown",
   "source": "Chuẩn hóa cột Amount và Time: Giúp các thuật toán học máy không bị ảnh hưởng bởi sự khác biệt về thang đo.",
   "id": "4901c29ebe487b56"
  },
  {
   "metadata": {},
   "cell_type": "markdown",
   "source": "#### 4.1. Log Transformation",
   "id": "3cd2cba3b8173864"
  },
  {
   "metadata": {},
   "cell_type": "markdown",
   "source": "Giải thích: Chuyển đổi Amount để giảm ảnh hưởng của các giá trị cực lớn.",
   "id": "dbef8d66c2dec831"
  },
  {
   "metadata": {},
   "cell_type": "code",
   "source": [
    "# Log transform cho cột Amount\n",
    "data_cleaned['Log_Amount'] = np.log(data_cleaned['Amount'] + 0.0001)\n",
    "\n",
    "# So sánh trước và sau chuẩn hóa\n",
    "print(\"Trước chuẩn hóa:\", data_cleaned['Amount'].describe())\n",
    "print(\"Sau chuẩn hóa:\", data_cleaned['Log_Amount'].describe())\n"
   ],
   "id": "46ce3310a1572a5d",
   "outputs": [],
   "execution_count": null
  },
  {
   "metadata": {},
   "cell_type": "markdown",
   "source": "#### 4.2. Standardization",
   "id": "b23e0a0367cc989a"
  },
  {
   "metadata": {},
   "cell_type": "markdown",
   "source": "Giải thích: Chuẩn hóa dữ liệu bằng cách đưa về phân phối chuẩn (mean = 0, std = 1).",
   "id": "5935a85dd1621032"
  },
  {
   "metadata": {},
   "cell_type": "code",
   "source": [
    "from sklearn.preprocessing import StandardScaler\n",
    "\n",
    "# Standardization cho Amount và Time\n",
    "scaler = StandardScaler()\n",
    "data_cleaned['Scaled_Amount'] = scaler.fit_transform(data_cleaned[['Amount']])\n",
    "data_cleaned['Scaled_Time'] = scaler.fit_transform(data_cleaned[['Time']])\n"
   ],
   "id": "1ff4e3ea81276142",
   "outputs": [],
   "execution_count": null
  },
  {
   "metadata": {},
   "cell_type": "markdown",
   "source": "#### 4.3. Normalization (Min-Max)",
   "id": "bd12a2fa12ecdbcc"
  },
  {
   "metadata": {},
   "cell_type": "markdown",
   "source": "Giải thích: Chuẩn hóa cột Amount trong khoảng [0, 1].",
   "id": "cd340f2f1db11a73"
  },
  {
   "metadata": {},
   "cell_type": "code",
   "source": [
    "from sklearn.preprocessing import MinMaxScaler\n",
    "\n",
    "minmax_scaler = MinMaxScaler()\n",
    "data_cleaned['Normalized_Amount'] = minmax_scaler.fit_transform(data_cleaned[['Amount']])\n"
   ],
   "id": "3fc604b84424e4ac",
   "outputs": [],
   "execution_count": null
  },
  {
   "metadata": {},
   "cell_type": "markdown",
   "source": "#### Trực quan hoá sau khi chuẩn hoá",
   "id": "2ec7bc46e71550df"
  },
  {
   "metadata": {},
   "cell_type": "code",
   "source": [
    "fig , axs = plt.subplots(nrows = 1 , ncols = 4 , figsize = (16,4))\n",
    "\n",
    "sns.boxplot(x =\"Class\",y=\"Amount\",data=data_cleaned, ax = axs[0])\n",
    "axs[0].set_title(\"Class vs Amount\")\n",
    "\n",
    "sns.boxplot(x =\"Class\",y=\"Log_Amount\",data=data_cleaned, ax = axs[1])\n",
    "axs[1].set_title(\"Class vs Log Amount\")\n",
    "\n",
    "sns.boxplot(x =\"Class\",y=\"Scaled_Amount\",data=data_cleaned, ax = axs[2])\n",
    "axs[2].set_title(\"Class vs Scaled Amount\")\n",
    "\n",
    "sns.boxplot(x =\"Class\",y=\"Normalized_Amount\",data=data_cleaned, ax = axs[3])\n",
    "axs[3].set_title(\"Class vs Min Max Amount\")\n",
    "\n",
    "# fig.suptitle('Amount by Class', fontsize=20)\n",
    "plt.savefig(os.path.join(figure_dir, \"9_class_with_normalization.png\"))\n",
    "plt.show()"
   ],
   "id": "248d059490220c81",
   "outputs": [],
   "execution_count": null
  },
  {
   "metadata": {},
   "cell_type": "markdown",
   "source": "### 5. Lưu dữ liệu",
   "id": "f1700b45b8aa5d65"
  },
  {
   "metadata": {},
   "cell_type": "code",
   "source": [
    "# Lưu dữ liệu đã xử lý\n",
    "data_cleaned.to_csv('../data/processed/processed_data.csv', index=False)\n",
    "print(\"Dữ liệu đã được lưu.\")\n"
   ],
   "id": "d9dcbc7fbe7b36bb",
   "outputs": [],
   "execution_count": null
  }
 ],
 "metadata": {
  "kernelspec": {
   "display_name": "Python 3",
   "language": "python",
   "name": "python3"
  },
  "language_info": {
   "codemirror_mode": {
    "name": "ipython",
    "version": 2
   },
   "file_extension": ".py",
   "mimetype": "text/x-python",
   "name": "python",
   "nbconvert_exporter": "python",
   "pygments_lexer": "ipython2",
   "version": "2.7.6"
  }
 },
 "nbformat": 4,
 "nbformat_minor": 5
}
